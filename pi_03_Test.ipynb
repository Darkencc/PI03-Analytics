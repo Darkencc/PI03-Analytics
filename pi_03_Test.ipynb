{
 "cells": [
  {
   "cell_type": "code",
   "execution_count": 1,
   "metadata": {},
   "outputs": [],
   "source": [
    "import time"
   ]
  },
  {
   "cell_type": "code",
   "execution_count": 6,
   "metadata": {},
   "outputs": [
    {
     "name": "stdout",
     "output_type": "stream",
     "text": [
      "86400\n",
      "1609477200.0\n",
      "1664168400.0\n"
     ]
    }
   ],
   "source": [
    "from datetime import datetime\n",
    "\n",
    "#1 Day\n",
    "resolution = 60*60*24\n",
    "print(resolution)\n",
    "\n",
    "\n",
    "#Start date = 2021-01-01\n",
    "start_time = datetime(2021,1,1).timestamp()\n",
    "print(start_time)\n",
    "\n",
    "\n",
    "#End date = 2021-01-01\n",
    "end_time = datetime(2022,9,26).timestamp()\n",
    "print(end_time)\n",
    "\n",
    "#https://ftx.us/api/markets/ETH/USD/candles?resolution=86400&start_time=1609477200\n",
    "#https://ftx.us/api/markets\n",
    "#Name = { (\"Avalanche\"), (\"Bitcoin\"),(\"Dogecoin\"),(\"Ethereum\"),(\"Chainlink\"),(\"Polygon\"),(\"Shiba Inu\"),(\"Solana\"),(\"Tron\"),(\"Uniswap\") }"
   ]
  }
 ],
 "metadata": {
  "kernelspec": {
   "display_name": "Python 3.10.2 64-bit",
   "language": "python",
   "name": "python3"
  },
  "language_info": {
   "codemirror_mode": {
    "name": "ipython",
    "version": 3
   },
   "file_extension": ".py",
   "mimetype": "text/x-python",
   "name": "python",
   "nbconvert_exporter": "python",
   "pygments_lexer": "ipython3",
   "version": "3.10.2"
  },
  "orig_nbformat": 4,
  "vscode": {
   "interpreter": {
    "hash": "9bf76935b0558a452d79ac17d5b7c501bf14d22e1233877faa6a532db668a323"
   }
  }
 },
 "nbformat": 4,
 "nbformat_minor": 2
}
